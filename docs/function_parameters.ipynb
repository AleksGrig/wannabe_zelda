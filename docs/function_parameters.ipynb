{
 "cells": [
  {
   "cell_type": "markdown",
   "id": "c57fc8a0",
   "metadata": {},
   "source": [
    "a, b=10,     * args / *,     kw1='a', kw2, **kwargs "
   ]
  },
  {
   "cell_type": "code",
   "execution_count": 1,
   "id": "277a5f9e",
   "metadata": {},
   "outputs": [
    {
     "data": {
      "text/plain": [
       "(1, [2, 3, 4, 5])"
      ]
     },
     "execution_count": 1,
     "metadata": {},
     "output_type": "execute_result"
    }
   ],
   "source": [
    "l = [1, 2, 3, 4, 5]\n",
    "a, *b = l\n",
    "a, b"
   ]
  },
  {
   "cell_type": "code",
   "execution_count": 4,
   "id": "ceb762c0",
   "metadata": {},
   "outputs": [
    {
     "data": {
      "text/plain": [
       "('p', ['y', 't', 'h', 'o', 'n'])"
      ]
     },
     "execution_count": 4,
     "metadata": {},
     "output_type": "execute_result"
    }
   ],
   "source": [
    "s = 'python'\n",
    "a, *b = s\n",
    "a, b"
   ]
  },
  {
   "cell_type": "code",
   "execution_count": 5,
   "id": "8fd10b52",
   "metadata": {},
   "outputs": [
    {
     "data": {
      "text/plain": [
       "('p', 'y', ['h', 'o'], 'n')"
      ]
     },
     "execution_count": 5,
     "metadata": {},
     "output_type": "execute_result"
    }
   ],
   "source": [
    "s = 'pyhon'\n",
    "a, b, *c, d = s\n",
    "a, b, c, d"
   ]
  },
  {
   "cell_type": "code",
   "execution_count": 6,
   "id": "67366af7",
   "metadata": {},
   "outputs": [
    {
     "data": {
      "text/plain": [
       "[1, 2, 3, 4, 5, 6]"
      ]
     },
     "execution_count": 6,
     "metadata": {},
     "output_type": "execute_result"
    }
   ],
   "source": [
    "l1 = [1, 2, 3]\n",
    "l2 = [4, 5, 6]\n",
    "l = [*l1, *l2]\n",
    "l"
   ]
  },
  {
   "cell_type": "code",
   "execution_count": 7,
   "id": "9ee7c0f0",
   "metadata": {},
   "outputs": [
    {
     "data": {
      "text/plain": [
       "['p', 'y', 't', 'h', 'o', 'n']"
      ]
     },
     "execution_count": 7,
     "metadata": {},
     "output_type": "execute_result"
    }
   ],
   "source": [
    "s = 'python'\n",
    "*a, = s\n",
    "a"
   ]
  },
  {
   "cell_type": "code",
   "execution_count": 9,
   "id": "acd3fd73",
   "metadata": {},
   "outputs": [
    {
     "data": {
      "text/plain": [
       "{1, 2, 3, 4, 5}"
      ]
     },
     "execution_count": 9,
     "metadata": {},
     "output_type": "execute_result"
    }
   ],
   "source": [
    "s1 = {1, 2, 3}\n",
    "s2 = {3, 4, 5}\n",
    "s = {*s1, *s2}\n",
    "s"
   ]
  },
  {
   "cell_type": "code",
   "execution_count": 13,
   "id": "a0b8a021",
   "metadata": {},
   "outputs": [
    {
     "data": {
      "text/plain": [
       "{'key1': 1, 'key2': 3, 'key3': 4}"
      ]
     },
     "execution_count": 13,
     "metadata": {},
     "output_type": "execute_result"
    }
   ],
   "source": [
    "d1 = {'key1': 1, 'key2': 2}\n",
    "d2 = {'key2': 3, 'key3': 4}\n",
    "d = {**d1, **d2}\n",
    "d"
   ]
  },
  {
   "cell_type": "code",
   "execution_count": 14,
   "id": "c4c6226b",
   "metadata": {},
   "outputs": [
    {
     "data": {
      "text/plain": [
       "(1, 2, 'X', 'Y')"
      ]
     },
     "execution_count": 14,
     "metadata": {},
     "output_type": "execute_result"
    }
   ],
   "source": [
    "a, b, (c, d) = [1, 2, 'XY']\n",
    "a, b, c, d"
   ]
  },
  {
   "cell_type": "code",
   "execution_count": 15,
   "id": "6f8a0caf",
   "metadata": {},
   "outputs": [
    {
     "data": {
      "text/plain": [
       "(1, [2, 3, 4], 5, ['p', 'y', 't', 'h', 'o'], 'n')"
      ]
     },
     "execution_count": 15,
     "metadata": {},
     "output_type": "execute_result"
    }
   ],
   "source": [
    "a, *b, c, (*d, e) = [1, 2, 3, 4, 5, 'python']\n",
    "a, b, c, d, e"
   ]
  },
  {
   "cell_type": "code",
   "execution_count": 17,
   "id": "b2eed1ca",
   "metadata": {},
   "outputs": [
    {
     "name": "stdout",
     "output_type": "stream",
     "text": [
      "1 2 ('a', 'b')\n"
     ]
    }
   ],
   "source": [
    "def fun(a, b, *args):\n",
    "    print(a, b, args)\n",
    "\n",
    "fun(1, 2, 'a', 'b')"
   ]
  },
  {
   "cell_type": "code",
   "execution_count": 19,
   "id": "35f64b36",
   "metadata": {},
   "outputs": [
    {
     "data": {
      "text/plain": [
       "4.0"
      ]
     },
     "execution_count": 19,
     "metadata": {},
     "output_type": "execute_result"
    }
   ],
   "source": [
    "def avg(*args):\n",
    "    return len(args) and sum(args)/len(args)\n",
    "\n",
    "avg(5, 3)"
   ]
  },
  {
   "cell_type": "code",
   "execution_count": 27,
   "id": "a623092f",
   "metadata": {},
   "outputs": [
    {
     "data": {
      "text/plain": [
       "5.5"
      ]
     },
     "execution_count": 27,
     "metadata": {},
     "output_type": "execute_result"
    }
   ],
   "source": [
    "def avg(a, *args):\n",
    "    return (sum(args) + a) / (len(args) + 1)\n",
    "\n",
    "l = [5, 6]\n",
    "avg(*l)"
   ]
  },
  {
   "cell_type": "code",
   "execution_count": 2,
   "id": "fcc98ae5",
   "metadata": {},
   "outputs": [
    {
     "name": "stdout",
     "output_type": "stream",
     "text": [
      "1 2 (3, 4) 5\n",
      "1 2 () 5\n"
     ]
    }
   ],
   "source": [
    "def fun(a, b, *c, d):\n",
    "    print(a, b, c, d)\n",
    "\n",
    "fun(1, 2, 3, 4, d=5)\n",
    "fun(1, 2, d=5)"
   ]
  },
  {
   "cell_type": "code",
   "execution_count": 4,
   "id": "bcbe858b",
   "metadata": {},
   "outputs": [
    {
     "name": "stdout",
     "output_type": "stream",
     "text": [
      "13\n"
     ]
    }
   ],
   "source": [
    "def fun(*, d): # * - end of posiional arguments\n",
    "    print(d)\n",
    "\n",
    "fun(d=13)"
   ]
  },
  {
   "cell_type": "code",
   "execution_count": 6,
   "id": "ca6e2f68",
   "metadata": {},
   "outputs": [
    {
     "name": "stdout",
     "output_type": "stream",
     "text": [
      "(1, 2) {'c': 3, 'd': 4}\n",
      "() {}\n"
     ]
    }
   ],
   "source": [
    "def fun(*args, **kwargs):\n",
    "    print(args, kwargs)\n",
    "\n",
    "fun(1, 2, c=3, d=4)\n",
    "fun()"
   ]
  },
  {
   "cell_type": "code",
   "execution_count": 10,
   "id": "6bed46c7",
   "metadata": {},
   "outputs": [
    {
     "name": "stdout",
     "output_type": "stream",
     "text": [
      "1 * 2 * 10 * ()\n",
      "1 * 2 * 3 * ()\n",
      "1 * 2 * 3 * (4,)\n"
     ]
    }
   ],
   "source": [
    "def fun(a, b, c=10, *args):\n",
    "    print(a, b, c, args, sep=' * ')\n",
    "\n",
    "fun(1, 2)\n",
    "fun(1, 2, 3)\n",
    "fun(1, 2, 3, 4)"
   ]
  },
  {
   "cell_type": "code",
   "execution_count": 8,
   "id": "ca9ce6dd",
   "metadata": {},
   "outputs": [
    {
     "data": {
      "text/plain": [
       "namespace(name='cpython',\n",
       "          cache_tag='cpython-313',\n",
       "          version=sys.version_info(major=3, minor=13, micro=4, releaselevel='final', serial=0),\n",
       "          hexversion=51184880)"
      ]
     },
     "execution_count": 8,
     "metadata": {},
     "output_type": "execute_result"
    }
   ],
   "source": [
    "import sys\n",
    "sys.implementation"
   ]
  },
  {
   "cell_type": "code",
   "execution_count": 28,
   "id": "60b4e47f",
   "metadata": {},
   "outputs": [
    {
     "name": "stdout",
     "output_type": "stream",
     "text": [
      "0.34561263999930814\n",
      "0.32047119999915596\n",
      "5.460000829771161e-06\n"
     ]
    }
   ],
   "source": [
    "import time\n",
    "\n",
    "def time_it(fn, *args, rep=1, **kwargs):\n",
    "    start = time.perf_counter()\n",
    "    for i in range(rep):\n",
    "        fn(*args, **kwargs)\n",
    "    end = time.perf_counter()\n",
    "    return (end - start) / rep\n",
    "\n",
    "def compute_powers_1(n, *, start=1, end):\n",
    "    # using a for loop\n",
    "    results = []\n",
    "    for i in range(start, end):\n",
    "        results.append(n**i)\n",
    "    return results\n",
    "\n",
    "def compute_powers_2(n, *, start=1, end):\n",
    "    # using a list comprehension\n",
    "    return [n**i for i in range(start, end)]\n",
    "\n",
    "def compute_powers_3(n, *, start=1, end):\n",
    "    # using a generator expression\n",
    "    return (n**i for i in range(start, end))\n",
    "\n",
    "print(time_it(compute_powers_1, 2, start=0, end=10_000, rep=5))\n",
    "print(time_it(compute_powers_2, 2, start=0, end=10_000, rep=5))\n",
    "print(time_it(compute_powers_3, 2, start=0, end=10_000, rep=5))"
   ]
  },
  {
   "cell_type": "code",
   "execution_count": 2,
   "id": "07704b45",
   "metadata": {},
   "outputs": [
    {
     "name": "stdout",
     "output_type": "stream",
     "text": [
      "<class 'function'>\n"
     ]
    }
   ],
   "source": [
    "def fun(a=10):\n",
    "    pass\n",
    "\n",
    "print(type(fun))"
   ]
  },
  {
   "cell_type": "code",
   "execution_count": 7,
   "id": "f8c15d12",
   "metadata": {},
   "outputs": [
    {
     "name": "stderr",
     "output_type": "stream",
     "text": [
      "C:\\Users\\Alex\\AppData\\Local\\Temp\\ipykernel_12720\\2559838505.py:4: DeprecationWarning: datetime.datetime.utcnow() is deprecated and scheduled for removal in a future version. Use timezone-aware objects to represent datetimes in UTC: datetime.datetime.now(datetime.UTC).\n",
      "  def log(msg, *, dt=datetime.utcnow()):  # default value created when def runs\n"
     ]
    },
    {
     "name": "stdout",
     "output_type": "stream",
     "text": [
      "2025-06-21 06:37:45.908192:message1\n",
      "2025-06-21 06:37:45.908192:message2\n"
     ]
    }
   ],
   "source": [
    "from datetime import datetime\n",
    "import time\n",
    "\n",
    "def log(msg, *, dt=datetime.utcnow()):  # default value created when def runs\n",
    "    print(f'{dt}:{msg}')\n",
    "\n",
    "log('message1')\n",
    "time.sleep(1)\n",
    "log('message2')"
   ]
  },
  {
   "cell_type": "code",
   "execution_count": 8,
   "id": "dfdd67d7",
   "metadata": {},
   "outputs": [
    {
     "name": "stderr",
     "output_type": "stream",
     "text": [
      "C:\\Users\\Alex\\AppData\\Local\\Temp\\ipykernel_12720\\535417364.py:5: DeprecationWarning: datetime.datetime.utcnow() is deprecated and scheduled for removal in a future version. Use timezone-aware objects to represent datetimes in UTC: datetime.datetime.now(datetime.UTC).\n",
      "  dt = dt or datetime.utcnow()\n"
     ]
    },
    {
     "name": "stdout",
     "output_type": "stream",
     "text": [
      "2025-06-21 06:38:06.470008:message1\n",
      "2025-06-21 06:38:07.470809:message2\n"
     ]
    }
   ],
   "source": [
    "from datetime import datetime\n",
    "import time\n",
    "\n",
    "def log(msg, *, dt=None):  # default value created when def runs\n",
    "    dt = dt or datetime.utcnow()\n",
    "    print(f'{dt}:{msg}')\n",
    "\n",
    "log('message1')\n",
    "time.sleep(1)\n",
    "log('message2')"
   ]
  }
 ],
 "metadata": {
  "kernelspec": {
   "display_name": "Python 3",
   "language": "python",
   "name": "python3"
  },
  "language_info": {
   "codemirror_mode": {
    "name": "ipython",
    "version": 3
   },
   "file_extension": ".py",
   "mimetype": "text/x-python",
   "name": "python",
   "nbconvert_exporter": "python",
   "pygments_lexer": "ipython3",
   "version": "3.13.4"
  }
 },
 "nbformat": 4,
 "nbformat_minor": 5
}
