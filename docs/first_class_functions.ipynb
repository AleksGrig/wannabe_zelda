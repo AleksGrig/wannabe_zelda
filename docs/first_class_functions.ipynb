{
 "cells": [
  {
   "cell_type": "code",
   "execution_count": 6,
   "id": "eee114c1",
   "metadata": {},
   "outputs": [
    {
     "name": "stdout",
     "output_type": "stream",
     "text": [
      "Help on function fun in module __main__:\n",
      "\n",
      "fun()\n",
      "    documentation for fun\n",
      "\n"
     ]
    }
   ],
   "source": [
    "def fun():\n",
    "    \"documentation for fun\"\n",
    "\n",
    "help(fun)"
   ]
  },
  {
   "cell_type": "code",
   "execution_count": 5,
   "id": "79b0819d",
   "metadata": {},
   "outputs": [
    {
     "data": {
      "text/plain": [
       "'multi-line\\ndocstring'"
      ]
     },
     "execution_count": 5,
     "metadata": {},
     "output_type": "execute_result"
    }
   ],
   "source": [
    "def fun():\n",
    "    \"\"\"multi-line\n",
    "    docstring\"\"\"\n",
    "\n",
    "fun.__doc__"
   ]
  },
  {
   "cell_type": "code",
   "execution_count": 4,
   "id": "c4fd54c7",
   "metadata": {},
   "outputs": [
    {
     "data": {
      "text/plain": [
       "{'a': int, 'return': None}"
      ]
     },
     "execution_count": 4,
     "metadata": {},
     "output_type": "execute_result"
    }
   ],
   "source": [
    "def fun(a: int) -> None:    # annoations\n",
    "    pass\n",
    "\n",
    "fun.__annotations__"
   ]
  },
  {
   "cell_type": "code",
   "execution_count": null,
   "id": "c20f3cd5",
   "metadata": {},
   "outputs": [
    {
     "data": {
      "text/plain": [
       "9"
      ]
     },
     "execution_count": 1,
     "metadata": {},
     "output_type": "execute_result"
    }
   ],
   "source": [
    "sq = lambda x: x**2\n",
    "\n",
    "sq(3)"
   ]
  },
  {
   "cell_type": "code",
   "execution_count": 3,
   "id": "70100aed",
   "metadata": {},
   "outputs": [
    {
     "data": {
      "text/plain": [
       "<function __main__._sum(x, y)>"
      ]
     },
     "execution_count": 3,
     "metadata": {},
     "output_type": "execute_result"
    }
   ],
   "source": [
    "def _sum(x, y):\n",
    "    return x + y\n",
    "\n",
    "_sum"
   ]
  },
  {
   "cell_type": "code",
   "execution_count": null,
   "id": "737b08ae",
   "metadata": {},
   "outputs": [
    {
     "data": {
      "text/plain": [
       "<function __main__.<lambda>(x, y)>"
      ]
     },
     "execution_count": 2,
     "metadata": {},
     "output_type": "execute_result"
    }
   ],
   "source": [
    "lambda x, y: x + y  # anonimous"
   ]
  },
  {
   "cell_type": "code",
   "execution_count": 10,
   "id": "f0680a03",
   "metadata": {},
   "outputs": [
    {
     "data": {
      "text/plain": [
       "'<lambda>'"
      ]
     },
     "execution_count": 10,
     "metadata": {},
     "output_type": "execute_result"
    }
   ],
   "source": [
    "f = lambda x, y: x + y\n",
    "f.__name__"
   ]
  },
  {
   "cell_type": "code",
   "execution_count": 4,
   "id": "814e3c29",
   "metadata": {},
   "outputs": [
    {
     "data": {
      "text/plain": [
       "(1, ('a', 'b'), 2, {'t': 100})"
      ]
     },
     "execution_count": 4,
     "metadata": {},
     "output_type": "execute_result"
    }
   ],
   "source": [
    "f = lambda x, *args, y, **kwargs: (x, args, y, kwargs)\n",
    "\n",
    "f(1, 'a', 'b', y=2, t=100)"
   ]
  },
  {
   "cell_type": "code",
   "execution_count": 6,
   "id": "7f539771",
   "metadata": {},
   "outputs": [
    {
     "data": {
      "text/plain": [
       "25"
      ]
     },
     "execution_count": 6,
     "metadata": {},
     "output_type": "execute_result"
    }
   ],
   "source": [
    "def apply_fn(x, fn):\n",
    "    return fn(x)\n",
    "\n",
    "apply_fn(5, lambda x: x**2)"
   ]
  },
  {
   "cell_type": "code",
   "execution_count": 7,
   "id": "3f5d2bb0",
   "metadata": {},
   "outputs": [
    {
     "name": "stdout",
     "output_type": "stream",
     "text": [
      "Help on built-in function sorted in module builtins:\n",
      "\n",
      "sorted(iterable, /, *, key=None, reverse=False)\n",
      "    Return a new list containing all items from the iterable in ascending order.\n",
      "\n",
      "    A custom key function can be supplied to customize the sort order, and the\n",
      "    reverse flag can be set to request the result in descending order.\n",
      "\n"
     ]
    }
   ],
   "source": [
    "help(sorted)"
   ]
  },
  {
   "cell_type": "code",
   "execution_count": 9,
   "id": "bf0e0b37",
   "metadata": {},
   "outputs": [
    {
     "name": "stdout",
     "output_type": "stream",
     "text": [
      "[1, 2, 3, 4, 5]\n",
      "[2, 5, 3, 4, 1]\n"
     ]
    }
   ],
   "source": [
    "l = [2, 5, 3, 4, 1]\n",
    "print(sorted(l))\n",
    "print(l)"
   ]
  },
  {
   "cell_type": "code",
   "execution_count": 15,
   "id": "7641184f",
   "metadata": {},
   "outputs": [
    {
     "name": "stdout",
     "output_type": "stream",
     "text": [
      "['a', 'b', 'c']\n",
      "['c', 'a', 'b']\n"
     ]
    }
   ],
   "source": [
    "d = {'b': 10, 'a': 9, 'c': 8}\n",
    "print(sorted(d))\n",
    "print(sorted(d, key=lambda key: d[key]))"
   ]
  },
  {
   "cell_type": "code",
   "execution_count": 11,
   "id": "1fb580ce",
   "metadata": {},
   "outputs": [
    {
     "data": {
      "text/plain": [
       "'def fun(x: int) -> int:\\n    return x**2\\n'"
      ]
     },
     "execution_count": 11,
     "metadata": {},
     "output_type": "execute_result"
    }
   ],
   "source": [
    "import inspect\n",
    "\n",
    "def fun(x: int) -> int:\n",
    "    return x**2\n",
    "\n",
    "inspect.getsource(fun)"
   ]
  },
  {
   "cell_type": "code",
   "execution_count": 4,
   "id": "15ede20d",
   "metadata": {},
   "outputs": [
    {
     "name": "stdout",
     "output_type": "stream",
     "text": [
      "True\n",
      "False\n"
     ]
    }
   ],
   "source": [
    "print(callable(print))\n",
    "print(callable(10))"
   ]
  },
  {
   "cell_type": "code",
   "execution_count": 10,
   "id": "a0ea5b70",
   "metadata": {},
   "outputs": [
    {
     "name": "stdout",
     "output_type": "stream",
     "text": [
      "0\n",
      "1\n"
     ]
    }
   ],
   "source": [
    "class MyCounter:\n",
    "    def __init__(self, x=0):\n",
    "        self.counter = x\n",
    "\n",
    "    def __call__(self, x=1):\n",
    "        self.counter += x\n",
    "\n",
    "x = MyCounter()\n",
    "print(x.counter)\n",
    "x()\n",
    "print(x.counter)"
   ]
  },
  {
   "cell_type": "code",
   "execution_count": 13,
   "id": "87dff810",
   "metadata": {},
   "outputs": [
    {
     "data": {
      "text/plain": [
       "[1, 4, 9]"
      ]
     },
     "execution_count": 13,
     "metadata": {},
     "output_type": "execute_result"
    }
   ],
   "source": [
    "list(map(lambda x: x**2, (1, 2, 3)))"
   ]
  },
  {
   "cell_type": "code",
   "execution_count": 19,
   "id": "345980af",
   "metadata": {},
   "outputs": [
    {
     "data": {
      "text/plain": [
       "[11, 22, 33]"
      ]
     },
     "execution_count": 19,
     "metadata": {},
     "output_type": "execute_result"
    }
   ],
   "source": [
    "list(map(lambda x, y: x + y, (1, 2, 3), (10, 20, 30, 40)))"
   ]
  },
  {
   "cell_type": "code",
   "execution_count": 16,
   "id": "d1c1ee61",
   "metadata": {},
   "outputs": [
    {
     "data": {
      "text/plain": [
       "[2, 4]"
      ]
     },
     "execution_count": 16,
     "metadata": {},
     "output_type": "execute_result"
    }
   ],
   "source": [
    "list(filter(lambda x: x % 2 == 0, (1, 2, 3, 4)))"
   ]
  },
  {
   "cell_type": "code",
   "execution_count": 18,
   "id": "bce64515",
   "metadata": {},
   "outputs": [
    {
     "data": {
      "text/plain": [
       "[(1, 11), (2, 12), (3, 13)]"
      ]
     },
     "execution_count": 18,
     "metadata": {},
     "output_type": "execute_result"
    }
   ],
   "source": [
    "list(zip((1, 2, 3), (11, 12, 13, 14)))"
   ]
  },
  {
   "cell_type": "code",
   "execution_count": 20,
   "id": "6f4d10b2",
   "metadata": {},
   "outputs": [
    {
     "data": {
      "text/plain": [
       "[(1, 11, 100), (2, 12, 200), (3, 13, 300)]"
      ]
     },
     "execution_count": 20,
     "metadata": {},
     "output_type": "execute_result"
    }
   ],
   "source": [
    "list(zip((1, 2, 3), (11, 12, 13, 14), (100, 200, 300, 400, 500)))"
   ]
  },
  {
   "cell_type": "code",
   "execution_count": 29,
   "id": "7d9866b5",
   "metadata": {},
   "outputs": [
    {
     "data": {
      "text/plain": [
       "[1, 4, 9]"
      ]
     },
     "execution_count": 29,
     "metadata": {},
     "output_type": "execute_result"
    }
   ],
   "source": [
    "[i**2 for i in (1, 2, 3)]"
   ]
  },
  {
   "cell_type": "code",
   "execution_count": 32,
   "id": "ef901beb",
   "metadata": {},
   "outputs": [
    {
     "data": {
      "text/plain": [
       "[11, 22, 33]"
      ]
     },
     "execution_count": 32,
     "metadata": {},
     "output_type": "execute_result"
    }
   ],
   "source": [
    "[x + y for x, y in zip((1, 2, 3), (10, 20, 30))]"
   ]
  },
  {
   "cell_type": "code",
   "execution_count": 33,
   "id": "fcd06a60",
   "metadata": {},
   "outputs": [
    {
     "data": {
      "text/plain": [
       "[2, 4]"
      ]
     },
     "execution_count": 33,
     "metadata": {},
     "output_type": "execute_result"
    }
   ],
   "source": [
    "[x for x in (1, 2, 3, 4, 5) if x % 2 == 0]"
   ]
  },
  {
   "cell_type": "code",
   "execution_count": null,
   "id": "573c6b4c",
   "metadata": {},
   "outputs": [
    {
     "name": "stdout",
     "output_type": "stream",
     "text": [
      "10\n",
      "4\n"
     ]
    }
   ],
   "source": [
    "def _reduce(fn, sequence):\n",
    "    result = sequence[0]\n",
    "    for x in sequence[1:]:\n",
    "        result = fn(result, x)\n",
    "    return result\n",
    "\n",
    "l = [1, 2, 3, 4]\n",
    "print(_reduce(lambda x, y: x + y, l))   # sum\n",
    "print(_reduce(lambda x, y: x if x > y else y, l))   # max"
   ]
  },
  {
   "cell_type": "code",
   "execution_count": null,
   "id": "bcd88b63",
   "metadata": {},
   "outputs": [
    {
     "data": {
      "text/plain": [
       "1"
      ]
     },
     "execution_count": 3,
     "metadata": {},
     "output_type": "execute_result"
    }
   ],
   "source": [
    "from functools import reduce\n",
    "reduce(lambda x, y: x if x < y else y, [1, 2, 3, 4])    # min"
   ]
  },
  {
   "cell_type": "code",
   "execution_count": 5,
   "id": "f07b9398",
   "metadata": {},
   "outputs": [
    {
     "data": {
      "text/plain": [
       "False"
      ]
     },
     "execution_count": 5,
     "metadata": {},
     "output_type": "execute_result"
    }
   ],
   "source": [
    "any((0, [], (), None, False, '')) # True if any el of iterable is truthy"
   ]
  },
  {
   "cell_type": "code",
   "execution_count": null,
   "id": "a780f843",
   "metadata": {},
   "outputs": [
    {
     "data": {
      "text/plain": [
       "True"
      ]
     },
     "execution_count": 6,
     "metadata": {},
     "output_type": "execute_result"
    }
   ],
   "source": [
    "all((1, True, 'python', [0])) # True if all els of iterable are truthy"
   ]
  },
  {
   "cell_type": "code",
   "execution_count": 2,
   "id": "43899656",
   "metadata": {},
   "outputs": [
    {
     "name": "stdout",
     "output_type": "stream",
     "text": [
      "25\n",
      "125\n"
     ]
    }
   ],
   "source": [
    "from functools import partial\n",
    "square = partial(pow, exp=2)\n",
    "cube = partial(pow, exp=3)\n",
    "print(square(5))\n",
    "print(cube(5))"
   ]
  },
  {
   "cell_type": "code",
   "execution_count": 5,
   "id": "b62c2d86",
   "metadata": {},
   "outputs": [
    {
     "name": "stdout",
     "output_type": "stream",
     "text": [
      "10\n",
      "24\n"
     ]
    }
   ],
   "source": [
    "import operator\n",
    "from functools import reduce\n",
    "print(reduce(operator.add, [1, 2, 3, 4]))    # sum\n",
    "print(reduce(operator.mul, [1, 2, 3, 4]))    # multiplication"
   ]
  }
 ],
 "metadata": {
  "kernelspec": {
   "display_name": "Python 3",
   "language": "python",
   "name": "python3"
  },
  "language_info": {
   "codemirror_mode": {
    "name": "ipython",
    "version": 3
   },
   "file_extension": ".py",
   "mimetype": "text/x-python",
   "name": "python",
   "nbconvert_exporter": "python",
   "pygments_lexer": "ipython3",
   "version": "3.13.4"
  }
 },
 "nbformat": 4,
 "nbformat_minor": 5
}
