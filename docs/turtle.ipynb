{
 "cells": [
  {
   "cell_type": "code",
   "execution_count": 2,
   "id": "9d79dc6e",
   "metadata": {},
   "outputs": [
    {
     "name": "stdout",
     "output_type": "stream",
     "text": [
      ". . . \n"
     ]
    }
   ],
   "source": [
    "print(\". . . \")"
   ]
  },
  {
   "cell_type": "markdown",
   "id": "6f9d9516",
   "metadata": {},
   "source": [
    "**Simple *for* loop with range object, range(start=0, end, step=1)**\n",
    "<br>\n",
    "*Repeats indented block, number of repeats depends on range object, every cycle puts number from range to i*"
   ]
  },
  {
   "cell_type": "code",
   "execution_count": 3,
   "id": "e040ab42",
   "metadata": {},
   "outputs": [
    {
     "name": "stdout",
     "output_type": "stream",
     "text": [
      "0\n",
      "1\n",
      "2\n"
     ]
    }
   ],
   "source": [
    "for i in range(3):\n",
    "    print(i)"
   ]
  },
  {
   "cell_type": "markdown",
   "id": "a294353d",
   "metadata": {},
   "source": [
    "*Construct line consisting of three '. ' with for loop*"
   ]
  },
  {
   "cell_type": "code",
   "execution_count": 4,
   "id": "4d44cf64",
   "metadata": {},
   "outputs": [
    {
     "name": "stdout",
     "output_type": "stream",
     "text": [
      ". . . \n"
     ]
    }
   ],
   "source": [
    "line = \"\"\n",
    "for x in range(3):\n",
    "    line += \". \"\n",
    "print(line)"
   ]
  },
  {
   "cell_type": "markdown",
   "id": "c6fab871",
   "metadata": {},
   "source": [
    "*Draw three lines*"
   ]
  },
  {
   "cell_type": "code",
   "execution_count": 5,
   "id": "8970a127",
   "metadata": {},
   "outputs": [
    {
     "name": "stdout",
     "output_type": "stream",
     "text": [
      ". . . \n",
      ". . . \n",
      ". . . \n"
     ]
    }
   ],
   "source": [
    "for y in range(3):\n",
    "    line = \"\"\n",
    "    for x in range(3):\n",
    "        line += \". \"\n",
    "    print(line)\n"
   ]
  },
  {
   "cell_type": "markdown",
   "id": "5ef499a9",
   "metadata": {},
   "source": [
    "*Draw three planes*"
   ]
  },
  {
   "cell_type": "code",
   "execution_count": 6,
   "id": "db501d7e",
   "metadata": {},
   "outputs": [
    {
     "name": "stdout",
     "output_type": "stream",
     "text": [
      "Слой 0\n",
      ". . . \n",
      ". . . \n",
      ". . . \n",
      "\n",
      "Слой 1\n",
      ". . . \n",
      ". . . \n",
      ". . . \n",
      "\n",
      "Слой 2\n",
      ". . . \n",
      ". . . \n",
      ". . . \n",
      "\n"
     ]
    }
   ],
   "source": [
    "for z in range(3):\n",
    "    print(f\"Слой {z}\")\n",
    "    for y in range(3):\n",
    "        line = \"\"\n",
    "        for x in range(3):\n",
    "            line += \". \"\n",
    "        print(line)\n",
    "    print()"
   ]
  },
  {
   "cell_type": "markdown",
   "id": "a63071b8",
   "metadata": {},
   "source": [
    "*Put it in a function*"
   ]
  },
  {
   "cell_type": "code",
   "execution_count": 7,
   "id": "b151e7fd",
   "metadata": {},
   "outputs": [],
   "source": [
    "def draw_cube():\n",
    "    for z in range(3):\n",
    "        print(f\"Слой {z}\")\n",
    "        for y in range(3):\n",
    "            line = \"\"\n",
    "            for x in range(3):\n",
    "                line += \". \"\n",
    "            print(line)\n",
    "        print()"
   ]
  },
  {
   "cell_type": "markdown",
   "id": "f73ffb7d",
   "metadata": {},
   "source": [
    "*Function invokation*"
   ]
  },
  {
   "cell_type": "code",
   "execution_count": 8,
   "id": "3b0b6b62",
   "metadata": {},
   "outputs": [
    {
     "name": "stdout",
     "output_type": "stream",
     "text": [
      "Слой 0\n",
      ". . . \n",
      ". . . \n",
      ". . . \n",
      "\n",
      "Слой 1\n",
      ". . . \n",
      ". . . \n",
      ". . . \n",
      "\n",
      "Слой 2\n",
      ". . . \n",
      ". . . \n",
      ". . . \n",
      "\n"
     ]
    }
   ],
   "source": [
    "draw_cube()"
   ]
  },
  {
   "cell_type": "markdown",
   "id": "f0607a4b",
   "metadata": {},
   "source": [
    "*Add turtle position to our function*"
   ]
  },
  {
   "cell_type": "code",
   "execution_count": 9,
   "id": "cf0c6eee",
   "metadata": {},
   "outputs": [],
   "source": [
    "def draw_cube(turtle_pos):\n",
    "    for z in range(3):\n",
    "        print(f\"Слой {z}\")\n",
    "        for y in range(3):\n",
    "            line = \"\"\n",
    "            for x in range(3):\n",
    "                if turtle_pos == [x, y, z]:\n",
    "                    line += 'T '\n",
    "                else:\n",
    "                    line += \". \"\n",
    "            print(line)\n",
    "        print()"
   ]
  },
  {
   "cell_type": "code",
   "execution_count": 10,
   "id": "a14bbbdc",
   "metadata": {},
   "outputs": [
    {
     "name": "stdout",
     "output_type": "stream",
     "text": [
      "Слой 0\n",
      ". . T \n",
      ". . . \n",
      ". . . \n",
      "\n",
      "Слой 1\n",
      ". . . \n",
      ". . . \n",
      ". . . \n",
      "\n",
      "Слой 2\n",
      ". . . \n",
      ". . . \n",
      ". . . \n",
      "\n"
     ]
    }
   ],
   "source": [
    "turtle_pos = [2, 0, 0]\n",
    "draw_cube(turtle_pos)"
   ]
  },
  {
   "cell_type": "markdown",
   "id": "88c8c8ad",
   "metadata": {},
   "source": [
    "*Add function moving our turtle*"
   ]
  },
  {
   "cell_type": "code",
   "execution_count": 11,
   "id": "4b85496f",
   "metadata": {},
   "outputs": [],
   "source": [
    "def move_turtle(direction):\n",
    "    global turtle_pos\n",
    "    if direction == 'left':\n",
    "        turtle_pos[0] = max(turtle_pos[0] - 1, 0)\n",
    "    elif direction == 'right':\n",
    "        turtle_pos[0] = min(turtle_pos[0] + 1, 2)\n",
    "    elif direction == 'up':\n",
    "        turtle_pos[1] = max(turtle_pos[1] - 1, 0)\n",
    "    elif direction == 'down':\n",
    "        turtle_pos[1] = min(turtle_pos[1] + 1, 2)\n",
    "    elif direction == 'backward':\n",
    "        turtle_pos[2] = max(turtle_pos[2] - 1, 0)\n",
    "    elif direction == 'forward':\n",
    "        turtle_pos[2] = min(turtle_pos[2] + 1, 2)"
   ]
  },
  {
   "cell_type": "code",
   "execution_count": 18,
   "id": "557d2c29",
   "metadata": {},
   "outputs": [
    {
     "name": "stdout",
     "output_type": "stream",
     "text": [
      "Слой 0\n",
      "T . . \n",
      ". . . \n",
      ". . . \n",
      "\n",
      "Слой 1\n",
      ". . . \n",
      ". . . \n",
      ". . . \n",
      "\n",
      "Слой 2\n",
      ". . . \n",
      ". . . \n",
      ". . . \n",
      "\n",
      "************************************* \n",
      "\n",
      "Слой 0\n",
      ". T . \n",
      ". . . \n",
      ". . . \n",
      "\n",
      "Слой 1\n",
      ". . . \n",
      ". . . \n",
      ". . . \n",
      "\n",
      "Слой 2\n",
      ". . . \n",
      ". . . \n",
      ". . . \n",
      "\n",
      "************************************* \n",
      "\n",
      "Слой 0\n",
      ". . . \n",
      ". T . \n",
      ". . . \n",
      "\n",
      "Слой 1\n",
      ". . . \n",
      ". . . \n",
      ". . . \n",
      "\n",
      "Слой 2\n",
      ". . . \n",
      ". . . \n",
      ". . . \n",
      "\n",
      "************************************* \n",
      "\n",
      "Слой 0\n",
      ". . . \n",
      ". . . \n",
      ". . . \n",
      "\n",
      "Слой 1\n",
      ". . . \n",
      ". T . \n",
      ". . . \n",
      "\n",
      "Слой 2\n",
      ". . . \n",
      ". . . \n",
      ". . . \n",
      "\n",
      "************************************* \n",
      "\n",
      "Слой 0\n",
      ". . . \n",
      ". . . \n",
      ". . . \n",
      "\n",
      "Слой 1\n",
      ". . . \n",
      ". . T \n",
      ". . . \n",
      "\n",
      "Слой 2\n",
      ". . . \n",
      ". . . \n",
      ". . . \n",
      "\n",
      "************************************* \n",
      "\n",
      "Слой 0\n",
      ". . . \n",
      ". . . \n",
      ". . . \n",
      "\n",
      "Слой 1\n",
      ". . . \n",
      ". . . \n",
      ". . T \n",
      "\n",
      "Слой 2\n",
      ". . . \n",
      ". . . \n",
      ". . . \n",
      "\n",
      "************************************* \n",
      "\n",
      "Слой 0\n",
      ". . . \n",
      ". . . \n",
      ". . . \n",
      "\n",
      "Слой 1\n",
      ". . . \n",
      ". . . \n",
      ". T . \n",
      "\n",
      "Слой 2\n",
      ". . . \n",
      ". . . \n",
      ". . . \n",
      "\n",
      "************************************* \n",
      "\n",
      "Слой 0\n",
      ". . . \n",
      ". . . \n",
      ". . . \n",
      "\n",
      "Слой 1\n",
      ". . . \n",
      ". T . \n",
      ". . . \n",
      "\n",
      "Слой 2\n",
      ". . . \n",
      ". . . \n",
      ". . . \n",
      "\n",
      "************************************* \n",
      "\n",
      "Слой 0\n",
      ". . . \n",
      ". . . \n",
      ". . . \n",
      "\n",
      "Слой 1\n",
      ". . . \n",
      "T . . \n",
      ". . . \n",
      "\n",
      "Слой 2\n",
      ". . . \n",
      ". . . \n",
      ". . . \n",
      "\n"
     ]
    }
   ],
   "source": [
    "from time import sleep\n",
    "turtle_pos = [0, 0, 0]\n",
    "commands = ['right', 'down', 'forward', 'right', 'down', 'left', 'up', 'left']\n",
    "draw_cube(turtle_pos)\n",
    "for command in commands:\n",
    "    print('*************************************', '\\n')\n",
    "    move_turtle(command)\n",
    "    draw_cube(turtle_pos)\n",
    "    sleep(2)"
   ]
  }
 ],
 "metadata": {
  "kernelspec": {
   "display_name": "Python 3",
   "language": "python",
   "name": "python3"
  },
  "language_info": {
   "codemirror_mode": {
    "name": "ipython",
    "version": 3
   },
   "file_extension": ".py",
   "mimetype": "text/x-python",
   "name": "python",
   "nbconvert_exporter": "python",
   "pygments_lexer": "ipython3",
   "version": "3.13.3"
  }
 },
 "nbformat": 4,
 "nbformat_minor": 5
}
